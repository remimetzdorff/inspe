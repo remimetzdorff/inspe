{
 "cells": [
  {
   "cell_type": "markdown",
   "metadata": {},
   "source": [
    "# Création des fichiers de données"
   ]
  },
  {
   "cell_type": "code",
   "execution_count": 11,
   "metadata": {},
   "outputs": [],
   "source": [
    "from celestialbody import CelestialBody # pour fonctionner, ce notebook doit être\n",
    "                                        # dans le même dossier que le module celestialbody\n",
    "from datetime import datetime, timedelta\n",
    "\n",
    "for name in [\"15P/Finlay\", \"1P/Halley\"]:\n",
    "    body = CelestialBody(name)\n",
    "\n",
    "    start = datetime.today()\n",
    "    stop  = start + timedelta(days=2.5*body.period) # pour avoir plus de données que nécessaire\n",
    "    step  = 1\n",
    "    next_date = start + timedelta(days=step)\n",
    "\n",
    "    header = [u\"# fichier \"+body.name.lower()+\".txt\\n\",\n",
    "              u\"############################################################################################\\n\",\n",
    "              u\"# Positions prévues de la comète \"+body.name+\" par rapport au Soleil.\\n\",\n",
    "              u\"# Les données sont prises tous les jours.\\n\",\n",
    "              u\"# La première ligne correspond au %2d/%2d/%4d, la deuxième au %2d/%2d/%4d, etc.\\n\"%(start.day, start.month, start.year, next_date.day, next_date.month, next_date.year),\n",
    "              u\"# Les distances sont exprimées en unité astronomique (au) : 1 au = %9.3e m\\n\"%(const.au.value),                    u\"############################################################################################\\n\"\n",
    "             ]\n",
    "\n",
    "    body.data_position_txt(start=start, stop=stop, step=step, header=header)"
   ]
  },
  {
   "cell_type": "code",
   "execution_count": 12,
   "metadata": {},
   "outputs": [],
   "source": [
    "%matplotlib inline # pour l'affichage des graphe dans le notebook"
   ]
  },
  {
   "cell_type": "markdown",
   "metadata": {},
   "source": [
    "# position_comete.py "
   ]
  },
  {
   "cell_type": "code",
   "execution_count": 13,
   "metadata": {},
   "outputs": [
    {
     "data": {
      "image/png": "[encoded data removed]",
      "text/plain": [
       "<Figure size 432x288 with 1 Axes>"
      ]
     },
     "metadata": {
      "needs_background": "light"
     },
     "output_type": "display_data"
    }
   ],
   "source": [
    "import numpy as np\n",
    "import matplotlib.pyplot as plt\n",
    "\n",
    "############\n",
    "# PARAMETRES\n",
    "############\n",
    "pas = 200 # nombre de jours entre deux positions successives\n",
    "n   = 8   # nombre de  positions représentées sur le graphique\n",
    "\n",
    "###########################################################################\n",
    "# LECTURE DES FICHIERS DE DONNÉES POUR RÉCUPÉRER LES POSITIONS DES PLANÈTES\n",
    "###########################################################################\n",
    "data = np.loadtxt(\"finlay.txt\", skiprows=8)\n",
    "x = np.array([data[i*pas,0] for i in range(n) if i*pas<len(data)])\n",
    "y = np.array([data[i*pas,1] for i in range(n) if i*pas<len(data)])\n",
    "\n",
    "##############################################################\n",
    "# REPRESENTATION GRAPHIQUE DES POSITIONS DES DIFFÉRENTS OBJETS\n",
    "##############################################################\n",
    "fig = plt.figure()\n",
    "\n",
    "plt.plot([0],[0], \"*\", color=\"gold\", markersize=20, label=\"Soleil\")\n",
    "plt.plot(x, y, \"o\", color=\"red\", label=\"Comète\")\n",
    "\n",
    "# Changement d'échelle pour les axes (modification des limites du graphe)\n",
    "#plt.xlim(-7,2)\n",
    "#plt.ylim(-3,3)\n",
    "\n",
    "# Titre, nom des axes et légende\n",
    "plt.title(\"Évolution de la position de la comète\")\n",
    "plt.xlabel(\"Abscisse par rapport au soleil\\nen unités astronomiques (au)\")\n",
    "plt.ylabel(\"Ordonnée par rapport au soleil\\nen unités astronomiques (au)\")\n",
    "plt.legend(loc = \"upper left\")\n",
    "fig.axes[0].set_aspect(\"equal\")\n",
    "plt.show()"
   ]
  },
  {
   "cell_type": "markdown",
   "metadata": {},
   "source": [
    "# halley.py"
   ]
  },
  {
   "cell_type": "code",
   "execution_count": 14,
   "metadata": {},
   "outputs": [
    {
     "data": {
      "image/png": "[encoded data removed]",
      "text/plain": [
       "<Figure size 432x288 with 1 Axes>"
      ]
     },
     "metadata": {
      "needs_background": "light"
     },
     "output_type": "display_data"
    }
   ],
   "source": [
    "import numpy as np\n",
    "import matplotlib.pyplot as plt\n",
    "\n",
    "###########################################\n",
    "# DONNÉES EXPÉRIMENTALES\n",
    "# Ajouter les données mesurées sur la comète\n",
    "###########################################\n",
    "periodes      = np.array([88.0, 224.7, 365.2, 687.0, 4331, 10747, 30589, 59800]) # périodes de révolution en jours\n",
    "demigrandaxes = np.array([57.9, 108.2, 149.6, 227.9, 778.6, 1433.5, 2872.5, 4495.1]) * 1e6 # demi-grands axes en unité astronomique (km)\n",
    "\n",
    "##############################################\n",
    "# CALCUL DES DONNEES À REPRÉSENTER\n",
    "# Attention aux unités !\n",
    "##############################################\n",
    "x = periodes**2\n",
    "y = demigrandaxes ** 3\n",
    "\n",
    "# Ajustement des données par une fonction affine\n",
    "#a, b = np.polyfit(x,y,1) # a est le coefficient directeur et b est l'ordonnée à l'origine\n",
    "\n",
    "##########################\n",
    "# REPRESENTATION GRAPHIQUE\n",
    "##########################\n",
    "fig = plt.figure()\n",
    "\n",
    "plt.plot(x, y, \"o\") # Les données expérimentales\n",
    "#plt.plot(x, a * x + b) # L'ajustement linéaire\n",
    "\n",
    "plt.xlabel(\"A compléter\")\n",
    "plt.ylabel(\"A compléter\")\n",
    "plt.show()"
   ]
  },
  {
   "cell_type": "code",
   "execution_count": null,
   "metadata": {},
   "outputs": [],
   "source": []
  }
 ],
 "metadata": {
  "kernelspec": {
   "display_name": "Python 3",
   "language": "python",
   "name": "python3"
  },
  "language_info": {
   "codemirror_mode": {
    "name": "ipython",
    "version": 3
   },
   "file_extension": ".py",
   "mimetype": "text/x-python",
   "name": "python",
   "nbconvert_exporter": "python",
   "pygments_lexer": "ipython3",
   "version": "3.8.3"
  }
 },
 "nbformat": 4,
 "nbformat_minor": 4
}
