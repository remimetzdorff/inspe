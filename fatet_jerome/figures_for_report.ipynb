{
 "cells": [
  {
   "cell_type": "code",
   "execution_count": 54,
   "metadata": {},
   "outputs": [
    {
     "name": "stdout",
     "output_type": "stream",
     "text": [
      "Populating the interactive namespace from numpy and matplotlib\n"
     ]
    }
   ],
   "source": [
    "%pylab qt\n",
    "%matplotlib inline\n",
    "import scipy.constants as cst"
   ]
  },
  {
   "cell_type": "markdown",
   "metadata": {},
   "source": [
    "# Rayleigh, Investigations in capillarity (1899)\n",
    "\n",
    "Dans le texte, ce qu'il appelle densité est\n",
    "$$density = \\frac{1}{length\\ in\\ cm} \\times 100$$\n",
    "où $length\\ in\\ cm$ est la longueur de la cuve donnant l'aire de la surface d'eau (la largeur du plat est 10 cm dans l'expérience).\n",
    "\n",
    "La masse en gramme $mass$ est la masse dans la balance de Wilhelmy, liée à la valeur de la tension de surface de l'eau par :\n",
    "$$ 2l\\alpha = mg$$\n",
    "où $l=27\\,\\rm cm$ (la longueur équivalente des 3 lames du dispositif expérimental de Rayleigh), $g$ l'accélération de pesanteur et $\\alpha$ la tension superficielle eau/air ($72{,}8\\,\\rm mN/m$ actuellement, 74 selon Rayleigh)\n"
   ]
  },
  {
   "cell_type": "code",
   "execution_count": 27,
   "metadata": {},
   "outputs": [
    {
     "data": {
      "text/plain": [
       "0.004073394495412844"
      ]
     },
     "execution_count": 27,
     "metadata": {},
     "output_type": "execute_result"
    }
   ],
   "source": [
    "alpha0 = 72.8e-3\n",
    "alpha_article = 74e-3\n",
    "g      = 9.81\n",
    "l      = 27e-2\n",
    "width  = 10e-3\n",
    "\n",
    "2*l*alpha_article/g #ok ça colle avec les valeur de l'article"
   ]
  },
  {
   "cell_type": "code",
   "execution_count": 34,
   "metadata": {},
   "outputs": [
    {
     "name": "stderr",
     "output_type": "stream",
     "text": [
      "<ipython-input-34-34a600c11df6>:11: RuntimeWarning: divide by zero encountered in true_divide\n",
      "  surface3 = 1/density3 * width\n",
      "<ipython-input-34-34a600c11df6>:16: RuntimeWarning: divide by zero encountered in true_divide\n",
      "  surface4 = 1/density4 * width\n"
     ]
    },
    {
     "data": {
      "text/plain": [
       "Text(0, 0.5, 'Surface tension (a.u.)')"
      ]
     },
     "execution_count": 34,
     "metadata": {},
     "output_type": "execute_result"
    },
    {
     "data": {
      "image/png": "[encoded data removed]",
      "text/plain": [
       "<Figure size 432x288 with 1 Axes>"
      ]
     },
     "metadata": {
      "needs_background": "light"
     },
     "output_type": "display_data"
    }
   ],
   "source": [
    "### les figure de l'article de Rayleigh\n",
    "\n",
    "alpha0 = 72.8e-3\n",
    "g      = 9.81\n",
    "l      = 27e-2\n",
    "width  = 10e-3\n",
    "\n",
    "### Fig 3 de l'article\n",
    "density3 = np.array([0, 152, 213, 233, 256, 278, 290, 308, 323, 334, 351, 377, 408, 435, 472, 510, 571])\n",
    "mass3    = np.array([1.65, 1.65, 1.65, 1.65, 1.64, 1.62, 1.6, 1.55, 1.5, 1.4, 1.3, 1.2, 1.1, 1., .9, .8, .7])*1e-3\n",
    "surface3 = 1/density3 * width\n",
    "\n",
    "### Fig 4 de l'article, réalisée après la première en ajoutant d'avantage d'huile\n",
    "density4 = np.array([0, 98, 108, 117, 122, 130, 136, 141, 148, 159, 175, 204, 233, 351, 488, 625])\n",
    "mass4    = np.array([1.66, 1.65, 1.64, 1.62, 1.6, 1.55, 1.5, 1.4, 1.3, 1.2, 1., .8, .7, .6, .55, .52])*1e-3\n",
    "surface4 = 1/density4 * width\n",
    "\n",
    "plt.plot(density3*1e-2, mass3, \".\")\n",
    "plt.plot(density4*1e-2, mass4, \".\")\n",
    "plt.xlabel(r\"Density (a.u.)\")\n",
    "plt.ylabel(\"Surface tension (a.u.)\")"
   ]
  },
  {
   "cell_type": "code",
   "execution_count": 53,
   "metadata": {},
   "outputs": [
    {
     "data": {
      "text/plain": [
       "Text(0, 0.5, 'Surface tension (N/m)')"
      ]
     },
     "execution_count": 53,
     "metadata": {},
     "output_type": "execute_result"
    },
    {
     "data": {
      "image/png": "[encoded data removed]",
      "text/plain": [
       "<Figure size 432x288 with 1 Axes>"
      ]
     },
     "metadata": {
      "needs_background": "light"
     },
     "output_type": "display_data"
    }
   ],
   "source": [
    "### curve from The constitution and fundamental properties of solids and liquids. II. Liquids, Langmuir, 1917\n",
    "### I don't have the same y value, not sure how they did in Langmuir\n",
    "\n",
    "def surfacetension(mass):\n",
    "    ### compute the surface tension value in N/m from mass value from Rayleigh's article\n",
    "    ### just need to add an offset so that the mass value at zero density is the same for pure water\n",
    "    m0 = 2*l*alpha0/g\n",
    "    offset = m0 - mass.max()\n",
    "    offset_mass = offset + mass\n",
    "    alpha = offset_mass*g/2./l\n",
    "    return alpha\n",
    "\n",
    "def height(density, mass):\n",
    "    ### compute height of a continuous layer with respect to density\n",
    "    alpha = surfacetension(mass)\n",
    "    for a, d in zip(alpha, density):\n",
    "        if a > alpha0*0.9:\n",
    "            pass\n",
    "        else:\n",
    "            break\n",
    "    return 2*density/d\n",
    "\n",
    "plt.plot(height(density4, mass4), surfacetension(mass4)*1000, '.')\n",
    "\n",
    "plt.xlabel(\"Height (nm)\")\n",
    "plt.ylabel(\"Surface tension (N/m)\")"
   ]
  },
  {
   "cell_type": "code",
   "execution_count": 21,
   "metadata": {},
   "outputs": [
    {
     "data": {
      "text/plain": [
       "Text(0, 0.5, 'Surface tension (a.u.)')"
      ]
     },
     "execution_count": 21,
     "metadata": {},
     "output_type": "execute_result"
    },
    {
     "data": {
      "image/png": "[encoded data removed]",
      "text/plain": [
       "<Figure size 432x288 with 1 Axes>"
      ]
     },
     "metadata": {
      "needs_background": "light"
     },
     "output_type": "display_data"
    }
   ],
   "source": [
    "### je trouve les figures plus facilement interprétable en mettant en abscice l'aire de la surface d'eau.\n",
    "\n",
    "plt.plot(surface3, mass3, \".\")\n",
    "plt.plot(surface4, mass4, \".\")\n",
    "plt.xlabel(r\"Water-surface area ($\\rm m^2$)\")\n",
    "plt.ylabel(\"Surface tension (a.u.)\")"
   ]
  },
  {
   "cell_type": "markdown",
   "metadata": {},
   "source": [
    "# Estimation du diamètre de la trioléine"
   ]
  },
  {
   "cell_type": "code",
   "execution_count": 58,
   "metadata": {},
   "outputs": [
    {
     "data": {
      "text/plain": [
       "1.1708545883291737e-09"
      ]
     },
     "execution_count": 58,
     "metadata": {},
     "output_type": "execute_result"
    }
   ],
   "source": [
    "M   = 885.4321 # masse molaire de la trioléine en g/mol Wikipédia\n",
    "rho = 0.916    # masse volumique de l'huile d'olive en kg/L\n",
    "(1/(rho*1e3/(M*1e-3/cst.N_A)))**(1/3)"
   ]
  },
  {
   "cell_type": "markdown",
   "metadata": {},
   "source": [
    "# Volume d'une goutte\n",
    "\n",
    "https://www.nisbets.fr/bac-gastronorme-inox-20mm-vogue/k998"
   ]
  },
  {
   "cell_type": "code",
   "execution_count": 64,
   "metadata": {},
   "outputs": [
    {
     "data": {
      "text/plain": [
       "0.47599888690754444"
      ]
     },
     "execution_count": 64,
     "metadata": {},
     "output_type": "execute_result"
    }
   ],
   "source": [
    "def volume(diameter):\n",
    "    radius = diameter/2\n",
    "    return 4/3 * np.pi * radius**3\n",
    "\n",
    "volume(1e-3)/1.1e-9"
   ]
  },
  {
   "cell_type": "code",
   "execution_count": 62,
   "metadata": {},
   "outputs": [
    {
     "data": {
      "text/plain": [
       "0.17225000000000001"
      ]
     },
     "execution_count": 62,
     "metadata": {},
     "output_type": "execute_result"
    }
   ],
   "source": [
    "### Surface d'un bac en inox de cantine\n",
    "0.325*0.53"
   ]
  },
  {
   "cell_type": "code",
   "execution_count": null,
   "metadata": {},
   "outputs": [],
   "source": []
  }
 ],
 "metadata": {
  "kernelspec": {
   "display_name": "Python 3",
   "language": "python",
   "name": "python3"
  },
  "language_info": {
   "codemirror_mode": {
    "name": "ipython",
    "version": 3
   },
   "file_extension": ".py",
   "mimetype": "text/x-python",
   "name": "python",
   "nbconvert_exporter": "python",
   "pygments_lexer": "ipython3",
   "version": "3.8.3"
  }
 },
 "nbformat": 4,
 "nbformat_minor": 4
}
